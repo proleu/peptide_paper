{
 "cells": [
  {
   "cell_type": "code",
   "execution_count": 1,
   "metadata": {},
   "outputs": [],
   "source": [
    "# Import libraries\n",
    "from Bio.PDB import PDBParser # for parsing input structure\n",
    "from math import cos,sin,tan,asin,acos,radians,sqrt,degrees,atan\n",
    "import numpy as np\n",
    "import seaborn as sns\n",
    "import matplotlib.pyplot as plt\n",
    "from lmfit import Parameters,minimize,report_fit # fot fitting helix\n",
    "import io # for printing output to file\n",
    "from contextlib import redirect_stdout # for printing output to file\n",
    "import sys\n",
    "import os\n",
    "import glob"
   ]
  },
  {
   "cell_type": "code",
   "execution_count": 12,
   "metadata": {},
   "outputs": [],
   "source": [
    "def makePDB(coordinates, name):\n",
    "    resid=1\n",
    "    atomnumb=2\n",
    "    with open('%s.pdb'%name, 'w') as f:\n",
    "        for i in coordinates:\n",
    "            f.write('ATOM{:>7s}  CA  ALA A{:>4s}     {:>7.3f} {:>7.3f} {:>7.3f}  1.00  0.00           C\\n'.format(str(atomnumb),str(resid),float(i[0]),float(i[1]),float(i[2])))\n",
    "            resid=resid+1\n",
    "            atomnumb=atomnumb+10\n",
    "        f.write('END')\n",
    "    return\n",
    "\n",
    "\n",
    "#### FUNCTIONS FOR PARAMETRIC FITTING ####\n",
    "\n",
    "# Parametric helix equation (from Huang et al. (2014), described in SI)\n",
    "# Contains small patch to make it resemble the BundleGridSampler mover (define helix 'origin' at the center)\n",
    "\n",
    "#----------MAKE CARTESIAN COORDINATES FOR CA OF RESIDUE t---------------\n",
    "def cartesian(r0, omega0, omega1, phi0, phi1, delta_z, t):\n",
    "    \n",
    "    # SHOULD NOT BE VARIED IF WANT TO RETAIN IDEAL ALPHA-HELIX\n",
    "    d=1.51 # FIXED, distance between successive residues along the helical axis, [angstrom] -- BundleGridSampler=z1\n",
    "    r1=2.26 # FIXED, helical radius, [angstrom] -- BundleGridSampler=r1_peratom\n",
    "\n",
    "    # ONLY FUNCTIONS OF OTHER PARAMETERS\n",
    "    alpha=asin((r0*omega0)/d) # CONSTRAINED (function of other variables), pitch angle, [radians] -- BundleGridSampler=delta_omega1_peratom?\n",
    "    # N.B. alpha is usually the issue if the script crashes due to a math domain error\n",
    "    phi_prime0=phi0+delta_z*tan(alpha)/r0 # CONSTRAINED (function of other variables), superhelical phase decoupled from delta_z, [radians] \n",
    "    \n",
    "    x=r0*cos(omega0*t+phi_prime0)+r1*cos(omega0*t+phi_prime0)*cos(omega1*t+phi1)-r1*cos(alpha)*sin(omega0*t+phi_prime0)*sin(omega1*t+phi1)\n",
    "    y=r0*sin(omega0*t+phi_prime0)+r1*sin(omega0*t+phi_prime0)*cos(omega1*t+phi1)+r1*cos(alpha)*cos(omega0*t+phi_prime0)*sin(omega1*t+phi1)\n",
    "    z=((omega0*r0)/(tan(alpha)))*t-r1*sin(alpha)*sin(omega1*t+phi1)+delta_z\n",
    "\n",
    "    return [x,y,z]\n",
    "\n",
    "#----------MAKE CARTESIAN COORDINATES FOR HELIX 'TRACE'---------------\n",
    "def xyz_trace(r0, omega0, phi0, delta_z, t):\n",
    "    \n",
    "    d=1.51 # FIXED, distance between successive residues along the helical axis, [angstrom] -- BundleGridSampler=z1\n",
    "    r1=2.26 # FIXED, helical radius, [angstrom] -- BundleGridSampler=r1_peratom\n",
    "\n",
    "    # ONLY FUNCTIONS OF OTHER PARAMETERS\n",
    "\n",
    "    alpha=asin((r0*omega0)/d) # CONSTRAINED (function of other variables), pitch angle, [radians] -- BundleGridSampler=delta_omega1_peratom?\n",
    "    # N.B. alpha is usually the issue if the script crashes due to a math domain error\n",
    "    phi_prime0=phi0+delta_z*tan(alpha)/r0 # CONSTRAINED (function of other variables), superhelical phase decoupled from delta_z, [radians] \n",
    "    \n",
    "    # Only first part of equation, corresponds to the middle 'trace' of each helix, without helical rotation\n",
    "    x=r0*cos(omega0*t+phi_prime0)\n",
    "    y=r0*sin(omega0*t+phi_prime0)\n",
    "    z=((omega0*r0)/(tan(alpha)))*t\n",
    "\n",
    "    return [x,y,z]\n",
    "\n",
    "\n",
    "#---------MAKE ARRAY OF XYZ COORDINATES FOR ALL CA-----------------------\n",
    "def moving(r0, omega0, omega1, phi0, phi1, delta_z, helix_length,invert):\n",
    "\n",
    "    # PATCH TO BRIDGE DIFFERENCES IN HOW THE 'ORIGIN' IS DEFINED\n",
    "    delta_t=int(helix_length/2)# define an offset of half-helix length (in number of residues) -- BundleGridSampler=delta_t\n",
    "    # 're-number' indices +/- around middle of helix\n",
    "    # to patch Vikram's convention (start from middle of helix) and Huang's convention (start at resid 1) \n",
    "    \n",
    "    # Correct for helices that have odd numbers of residues (otherwise fitting helix will be one residue short)\n",
    "    if (helix_length % 2) == 0:\n",
    "        residue_renumber_indices=np.arange(-delta_t,+delta_t,1)\n",
    "    if (helix_length % 2) != 0:\n",
    "        residue_renumber_indices=np.arange(-delta_t,+delta_t+1,1)\n",
    "        \n",
    "    \n",
    "    if invert==True: # change direction of helix\n",
    "        residue_renumber_indices=-1*residue_renumber_indices\n",
    "    \n",
    "    moving_coordinates=[]\n",
    "    for t in residue_renumber_indices:\n",
    "        \n",
    "        xyz=cartesian(r0, omega0, omega1, phi0, phi1, delta_z, t)\n",
    "        moving_coordinates.append(xyz)\n",
    "        \n",
    "    return np.array(moving_coordinates)\n",
    "\n",
    "\n",
    "\n",
    "############ FUNCTIONS FOR GEOMETRICAL TRANSFORMATIONS ###############\n",
    "\n",
    "# Define translation matrix\n",
    "def translation(translation_axis): # general along any arbitrary vector\n",
    "    return np.array([[1,0,0,translation_axis[0]],[0,1,0,translation_axis[1]],[0,0,1,translation_axis[2]],[0,0,0,1]])\n",
    "\n",
    "# Define translation matrix with distance scaling\n",
    "def translation_d(translation_axis, d): # general along any arbitrary vector AND scaled by distance d\n",
    "    return np.array([[1,0,0,translation_axis[0]*d],[0,1,0,translation_axis[1]*d],[0,0,1,translation_axis[2]],[0,0,0,1]])\n",
    "\n",
    "# Define general rotation matrix (for given angle (in radians)) around arbitrary axis\n",
    "def rotation(theta,axis):\n",
    "    # ux^2+uy^2+uz^2 = 1 is required !!!\n",
    "    ux=axis[0]\n",
    "    uy=axis[1]\n",
    "    uz=axis[2]\n",
    "    return np.array([[cos(theta)+(ux**2)*(1-cos(theta)), ux*uy*(1-cos(theta))-uz*sin(theta),ux*uz*(1-cos(theta))+uy*sin(theta)],\n",
    "                    [uy*ux*(1-cos(theta))+uz*sin(theta), cos(theta)+(uy**2)*(1-cos(theta)),uy*uz*(1-cos(theta))-ux*sin(theta)],\n",
    "                    [uz*ux*(1-cos(theta))-uy*sin(theta), uz*uy*(1-cos(theta))+ux*sin(theta), cos(theta)+(uz**2)*(1-cos(theta))]])\n",
    "\n",
    "\n",
    "################ FUNCTIONS FOR GENERATION HELIX BACKBONE FROM CA TRACE ################\n",
    "# From PEILONG with modifications\n",
    "# convert CA trace to full backbone model by superimposing on ideal template (ideal.pdb) by matching 3 consecutive CA atoms\n",
    "\n",
    "# Define 'stub' (from 3 atoms) - necessary for computing the transformation matrix that matches the structures \n",
    "def stub(b,a,c): # a,b,c are the vectors of a, b, c with respect to the general coordinate frame\n",
    "    e1=(a-b)/np.linalg.norm(a-b)\n",
    "    e3=np.cross(e1,(c-b))/np.linalg.norm(np.cross(e1,(c-b)))\n",
    "    e2=np.cross(e1,e3)/np.linalg.norm(np.cross(e1,e3))\n",
    "    partial_matrix = np.array([e1,e2,e3,b]).T\n",
    "    extra_line=np.array([[0,0,0,1]])\n",
    "    stub_matrix=np.append(partial_matrix,extra_line,axis=0)\n",
    "\n",
    "    return stub_matrix\n",
    "\n",
    "\n",
    "\n",
    "# Read original PDB in order to append the new helix to it\n",
    "#zcon=open('mALb8_cutT2.pdb','r').readlines() \n",
    "\n",
    "# Function that takes CA coordinates as input and return ideal helix backbone appended to fitted PDB in one PDB file\n",
    "def make_BB_from_CA(CA_coordinates,suffix,file_name,buttress):\n",
    "    \n",
    "    # Generate 'ideal' stub \n",
    "    stub_file=map(str.split,open('/home/bwicky/Design/add_buttressing_helix_to_zcon/ideal.pdb','r').readlines())\n",
    "\n",
    "    atom=[]\n",
    "    for line in stub_file:\n",
    "        atom.append(np.array([float(line[6]),float(line[7]),float(line[8])]))\n",
    "\n",
    "    ideal_stub=stub(atom[6],atom[1],atom[11]) # generate ideal stub from CA coordinates\n",
    "\n",
    "    with open('buttress_%s/input_structures/%s_%s_%s.pdb'%(buttress,buttress,file_name[:-4],suffix),'w') as full_pdb:\n",
    "    \n",
    "        # Write original structure to file\n",
    "        for line in zcon:\n",
    "            if line !='END\\n':\n",
    "                full_pdb.write(line)\n",
    "        \n",
    "        # Generate and write bb of generated helix based on its CA trace\n",
    "        atom_num=1\n",
    "        res_num=0 \n",
    "        chain='C'\n",
    "        CA_chain=CA_coordinates[:,0:3]\n",
    "        for res in range(1,len(CA_chain)-1):\n",
    "\n",
    "            res_num=res_num+1\n",
    "            actual_stub=stub(CA_chain[res],CA_chain[res-1],CA_chain[res+1]) # stub based on CA trace\n",
    "            transform=np.matmul(actual_stub,np.linalg.inv(ideal_stub)) # find transformation matrix between ideal and actual stub\n",
    "\n",
    "            # N\n",
    "            coords=np.matmul(transform,np.append(atom[5],1))\n",
    "            full_pdb.write('ATOM %6d  N   ALA %s %3d    %8.3f%8.3f%8.3f  1.00  0.00           N\\n'%(atom_num,chain,res_num,coords[0],coords[1],coords[2]))\n",
    "            atom_num=atom_num+1\n",
    "\n",
    "            # CA (use actual CA from trace rather than superimposed one)\n",
    "            coords=CA_chain[res]\n",
    "            # If want to use CA from ideal stub instead of actual CA\n",
    "            # coords=np.matmul(transform,np.append(atom[6],1)) \n",
    "            full_pdb.write('ATOM %6d  CA  ALA %s %3d    %8.3f%8.3f%8.3f  1.00  0.00           C\\n'%(atom_num,chain,res_num,coords[0],coords[1],coords[2]))\n",
    "            atom_num=atom_num+1\n",
    "\n",
    "            # (N)H\n",
    "            coords=np.matmul(transform,np.append(atom[7],1))\n",
    "            full_pdb.write('ATOM %6d  H   ALA %s %3d    %8.3f%8.3f%8.3f  1.00  0.00           H\\n'%(atom_num,chain,res_num,coords[0],coords[1],coords[2]))\n",
    "            atom_num=atom_num+1\n",
    "\n",
    "            # C(O)\n",
    "            coords=np.dot(transform,np.append(atom[8],1))\n",
    "            full_pdb.write('ATOM %6d  C   ALA %s %3d    %8.3f%8.3f%8.3f  1.00  0.00           C\\n'%(atom_num,chain,res_num,coords[0],coords[1],coords[2]))\n",
    "            atom_num=atom_num+1\n",
    "\n",
    "            # O\n",
    "            coords=np.dot(transform,np.append(atom[9],1))\n",
    "            full_pdb.write('ATOM %6d  O   ALA %s %3d    %8.3f%8.3f%8.3f  1.00  0.00           O\\n'%(atom_num,chain,res_num,coords[0],coords[1],coords[2]))\n",
    "            atom_num=atom_num+1\n",
    "\n",
    "        full_pdb.write('END')\n",
    "        \n",
    "    return\n",
    "              \n",
    "\n",
    "def assemble_helices(helices,name):\n",
    "\n",
    "    # Generate 'ideal' stub \n",
    "    stub_file=map(str.split,open('/home/bwicky/Design/add_buttressing_helix_to_zcon/ideal.pdb','r').readlines())\n",
    "\n",
    "    atom=[]\n",
    "    for line in stub_file:\n",
    "        atom.append(np.array([float(line[6]),float(line[7]),float(line[8])]))\n",
    "\n",
    "    ideal_stub=stub(atom[6],atom[1],atom[11]) # generate ideal stub from CA coordinates\n",
    "    \n",
    "    \n",
    "    chains = ['A','B','C','D','E','F','G','H','I','J']\n",
    "    chain_index = 0\n",
    "    with open('%s.pdb'%name, 'w') as full_pdb:\n",
    "\n",
    "        \n",
    "        # Generate and write bb of generated helix based on its CA trace\n",
    "        for helix in helices:\n",
    "            atom_num=1\n",
    "            res_num=0 \n",
    "            chain=chains[chain_index]\n",
    "            CA_chain=helix[:,0:3]\n",
    "            for res in range(1,len(CA_chain)-1):\n",
    "\n",
    "                res_num=res_num+1\n",
    "                actual_stub=stub(CA_chain[res],CA_chain[res-1],CA_chain[res+1]) # stub based on CA trace\n",
    "                transform=np.matmul(actual_stub,np.linalg.inv(ideal_stub)) # find transformation matrix between ideal and actual stub\n",
    "\n",
    "                # N\n",
    "                coords=np.matmul(transform,np.append(atom[5],1))\n",
    "                full_pdb.write('ATOM %6d  N   ALA %s %3d    %8.3f%8.3f%8.3f  1.00  0.00           N\\n'%(atom_num,chain,res_num,coords[0],coords[1],coords[2]))\n",
    "                atom_num=atom_num+1\n",
    "\n",
    "                # CA (use actual CA from trace rather than superimposed one)\n",
    "                coords=CA_chain[res]\n",
    "                # If want to use CA from ideal stub instead of actual CA\n",
    "                # coords=np.matmul(transform,np.append(atom[6],1)) \n",
    "                full_pdb.write('ATOM %6d  CA  ALA %s %3d    %8.3f%8.3f%8.3f  1.00  0.00           C\\n'%(atom_num,chain,res_num,coords[0],coords[1],coords[2]))\n",
    "                atom_num=atom_num+1\n",
    "\n",
    "                # (N)H\n",
    "                coords=np.matmul(transform,np.append(atom[7],1))\n",
    "                full_pdb.write('ATOM %6d  H   ALA %s %3d    %8.3f%8.3f%8.3f  1.00  0.00           H\\n'%(atom_num,chain,res_num,coords[0],coords[1],coords[2]))\n",
    "                atom_num=atom_num+1\n",
    "\n",
    "                # C(O)\n",
    "                coords=np.dot(transform,np.append(atom[8],1))\n",
    "                full_pdb.write('ATOM %6d  C   ALA %s %3d    %8.3f%8.3f%8.3f  1.00  0.00           C\\n'%(atom_num,chain,res_num,coords[0],coords[1],coords[2]))\n",
    "                atom_num=atom_num+1\n",
    "\n",
    "                # O\n",
    "                coords=np.dot(transform,np.append(atom[9],1))\n",
    "                full_pdb.write('ATOM %6d  O   ALA %s %3d    %8.3f%8.3f%8.3f  1.00  0.00           O\\n'%(atom_num,chain,res_num,coords[0],coords[1],coords[2]))\n",
    "                atom_num=atom_num+1\n",
    "            chain_index+=1\n",
    "        full_pdb.write('END')\n",
    "        \n",
    "    return\n",
    "  \n",
    "\n",
    "def sample_design(angle_range, num_helices, r0, omega0, omega1, helix_length, file_name):\n",
    "    h0 = moving(.000001, radians(omega0), radians(omega1), radians(0), 0, 0, helix_length,False)\n",
    "    helices = [h0]\n",
    "    angle_start = (180 - angle_range)/2 + 90\n",
    "    angle_increment = angle_range / (num_helices-1)\n",
    "    for i in range(num_helices):\n",
    "        helices.append(moving(r0, radians(omega0), radians(omega1), radians(angle_start + i*angle_increment), 0, 0, helix_length,False))\n",
    "    assemble_helices(helices, file_name)\n",
    "    return"
   ]
  },
  {
   "cell_type": "code",
   "execution_count": 13,
   "metadata": {},
   "outputs": [],
   "source": [
    "def generator(r0_A,r0_B,r0_C,phi0_A,phi0_B,phi0_C,omega0_A,omega0_B,omega1_A,omega1_B,delta_z_A,delta_z_B,helix_lenght_A,helix_length_B, bundle_dist, ID):\n",
    "\n",
    "    \n",
    "    # Find xy coordinates based on fitted parameteres\n",
    "    xy_A=np.array([cos(phi0_A)*r0_A,sin(phi0_A)*r0_A])\n",
    "    xy_B=np.array([cos(phi0_B)*r0_B,sin(phi0_B)*r0_B])\n",
    "    xy_C=np.array([cos(phi0_C)*r0_C,sin(phi0_C)*r0_C])\n",
    "\n",
    "\n",
    "    # Compute averages for the parameters that will not sampled on the grid\n",
    "    omega0_avg=(omega0_A+omega0_B)/2\n",
    "    omega1_avg=(omega1_A+omega1_B)/2\n",
    "    delta_z_avg=(delta_z_A+delta_z_B)/2\n",
    "    helix_length_avg=(helix_lenght_A+helix_length_B)/2\n",
    "\n",
    "    # Find the point that is equidistant from A and B on the line that connects the two\n",
    "    xy_midpoint=((xy_B-xy_A)/2)+xy_A\n",
    "    r_midpoint=np.sqrt(np.sum(np.power(xy_midpoint,2)))\n",
    "    if xy_midpoint[0]>0 and xy_midpoint[1]>0: # quadrant I\n",
    "        angle_midpoint=atan(xy_midpoint[1]/xy_midpoint[0])\n",
    "    if xy_midpoint[0]<0 and xy_midpoint[1]>0: # quadrant II\n",
    "        angle_midpoint=atan(xy_midpoint[1]/xy_midpoint[0])+radians(180)\n",
    "    if xy_midpoint[0]<0 and xy_midpoint[1]<0: # quadrant III\n",
    "        angle_midpoint=atan(xy_midpoint[1]/xy_midpoint[0])+radians(180)\n",
    "    if xy_midpoint[0]>0 and xy_midpoint[1]<0: # quadrant IV\n",
    "        angle_midpoint=atan(xy_midpoint[1]/xy_midpoint[0])+radians(360)\n",
    "\n",
    "\n",
    "\n",
    "    #----------- DOT TEST ------------\n",
    "    # Necessary to ensure that the translation of the newly generated helix is outwards with respect to the bundle\n",
    "    AvB=np.append(xy_B-xy_A,0) # vector AB\n",
    "    AvC=np.append(xy_C-xy_A,0) # vector AC (helix C or D could be used, ensures that projection is away from it)\n",
    "    dot_test=False\n",
    "    if np.cross(AvB,AvC)[2] < 0:\n",
    "        dot_test=True\n",
    "    \n",
    "    #-------- ARRAYS OF PERPENDICULAR VECTORS AT THE MIDPOINT BETWEEN A AND B ----------\n",
    "    trace_chA=[]\n",
    "    trace_chB=[]\n",
    "    trace_midpoint=[]\n",
    "    perp_vectors=[]\n",
    "    interation=np.arange(-helix_length_avg/2,helix_length_avg/2,1)\n",
    "    for k in interation:\n",
    "        # Compute helical 'trace'\n",
    "        trace_A=np.array(xyz_trace(r0_A,omega0_A,phi0_A,delta_z_avg,k))+np.array([0,0,delta_z_avg])\n",
    "        trace_B=np.array(xyz_trace(r0_B,omega0_B,phi0_B,delta_z_avg,k))+np.array([0,0,delta_z_avg])\n",
    "\n",
    "        # Find points that are equidistant from A and B on the line connecting the two\n",
    "        trace_mid=((trace_B-trace_A)/2)+trace_A\n",
    "\n",
    "        trace_chA.append(trace_A)\n",
    "        trace_chB.append(trace_B)\n",
    "        trace_midpoint.append(trace_mid)\n",
    "\n",
    "        # Find perpendicular vector to the line (with origin at the midpoint) that projects AWAY from the bundle\n",
    "        if dot_test == False:\n",
    "            perp=np.cross(trace_B-trace_mid,np.array([0,0,1]))+trace_mid\n",
    "        if dot_test == True:\n",
    "            perp=np.cross(trace_B-trace_mid,np.array([0,0,-1]))+trace_mid\n",
    "\n",
    "        norm_perp_vectors=(perp-trace_mid)/np.linalg.norm(perp-trace_mid)\n",
    "        perp_vectors.append(norm_perp_vectors)\n",
    "\n",
    "        \n",
    "# SAMPLING VALS #############################################################################\n",
    "    dz = (np.random.random_sample()*1.5) -0.75 # originally delta_z_avg, changed to add random/diversity\n",
    "    d = np.random.normal(bundle_dist,.25) # sample buttress distance with random noise\n",
    "    tilting_offset= radians(np.random.random_sample()*-10) # random sample tilt between 0 and -10 degrees\n",
    "    phi1=radians(np.random.random_sample()*360) # random sample phi1\n",
    "#############################################################################################\n",
    "    \n",
    "\n",
    "    pdb_names=[] # for generating task array\n",
    "    loop1=[] # variable to pass to the XML based on the connectivity that is possible for building the first loop\n",
    "    loop2=[] # variable to pass to the XML based on the connectivity that is possible for building the second loop\n",
    "\n",
    "    # Generate helix using averaged parameters\n",
    "    # +2 for helix length necessary for reconstituation of full backbone from CA later on (otherwise will be shorter)\n",
    "    # moving(r0, omega0, omega1, phi0, phi1, delta_z, helix_length,invert)    \n",
    "    generated=moving(r_midpoint,omega0_avg,omega1_avg,angle_midpoint,phi1,dz,helix_length_avg+2,True)\n",
    "\n",
    "    # Translate middle of helix into xy plane before rotation to avoid lever-arm effects\n",
    "    closest_to_origin=np.argmin(np.absolute(np.array(trace_midpoint)),axis=0)[2]\n",
    "    shift_v=trace_midpoint[closest_to_origin]-trace_midpoint[int(len(interation)/2)]\n",
    "    shift_matrix=translation(shift_v)\n",
    "    shifted_list=[]\n",
    "    for line in generated:\n",
    "        add=np.append(line,1)\n",
    "        coord=np.dot(shift_matrix,add)\n",
    "        shifted_list.append(coord)\n",
    "    shifted=np.array(shifted_list)\n",
    "\n",
    "    # Rotate around projection vector\n",
    "    tilt_v=trace_midpoint[-1]-trace_midpoint[0]\n",
    "    tilt_angle=acos(np.dot(tilt_v,np.array([0,0,1]))/(np.linalg.norm(tilt_v)))\n",
    "#     tilt_angle=0\n",
    "    rotation_matrix=rotation(-tilt_angle+tilting_offset,perp_vectors[int(len(interation)/2)])\n",
    "    rotated=np.dot(shifted[:,0:3],rotation_matrix)\n",
    "\n",
    "    # Shift back into position\n",
    "    shift_back_matrix=translation(-shift_v)\n",
    "    shifted_back_list=[]\n",
    "    for line in rotated:\n",
    "        add=np.append(line,1)\n",
    "        coord=np.dot(shift_back_matrix,add)\n",
    "        shifted_back_list.append(coord)\n",
    "    shifted_back=np.array(shifted_back_list)\n",
    "\n",
    "    # Translate outwards along projection vector\n",
    "    translate_out_matrix=translation_d(perp_vectors[int(len(interation)/2)],d)\n",
    "    trans_out_list=[]\n",
    "    for line in shifted_back:\n",
    "        coord=np.dot(translate_out_matrix,line)\n",
    "        trans_out_list.append(coord)\n",
    "    trans_out=np.array(trans_out_list)\n",
    "\n",
    "#     makePDB(generated,'generated%s'%ID)\n",
    "#     makePDB(shifted,'shifted%s'%ID)\n",
    "#     makePDB(rotated,'rotated%s'%ID)\n",
    "#     makePDB(shifted_back,'shifted_back_%s'%ID)\n",
    "#     makePDB(trans_out,'trans_out_%s'%ID)        \n",
    "    return trans_out"
   ]
  },
  {
   "cell_type": "code",
   "execution_count": 14,
   "metadata": {},
   "outputs": [],
   "source": [
    "def random_sample_design(num_helices, helix_length, file_name):\n",
    "    \n",
    "    omega0 = 0\n",
    "    while omega0 > -1: # set cutoff for omega0 -- require some supercoiling\n",
    "        # SAMPLE OMEGA0 ON GAMMA DISTRIBUTION WITH XFACT MAX\n",
    "        x = np.random.gamma(1.1, .4)\n",
    "        xfact = 1.75\n",
    "        while x > xfact:\n",
    "            x = np.random.gamma(1, .4)\n",
    "        omega0 = (2.85*(x/xfact)-2.85)\n",
    "\n",
    "    omega1 = 100 - omega0\n",
    "    #omega0 = np.random.triangular(-2.85,-2.85, 0) # favor more supercoil since looping favors straight bundles\n",
    "    #omega0 = np.random.random_sample()*-2.85\n",
    "    \n",
    "    # RANDOM SAMPLE PHI1\n",
    "    phi1 = np.random.random_sample()*360\n",
    "    \n",
    "    # PLACE GROOVE HELIX\n",
    "    #h0 = moving(.0000000000001, radians(omega0), radians(omega1), radians(0), radians(phi1), 0, helix_length +14,True)\n",
    "    helices = []#h0]\n",
    "    tot_angle = 0\n",
    "    phi0s = [tot_angle]\n",
    "    r0s = [.0000000000001]\n",
    "\n",
    "    # BUNDLE DIST IS EQUIVALENT TO BUTTRESS DISTANCE, i.e. DIST BUTTRESS IS FROM MIDPOINT OF TWO HELICES\n",
    "    # BUNDLE DIST * HYP_F IS SIDE LENGTH, i.e. DIST BETWEEN EVERY HELIX\n",
    "    bundle_dist = np.random.normal(8.75,.4) # normal dist around 9 with 2sigma = 1.5\n",
    "    hyp_f = 2 / sqrt(3)\n",
    "    \n",
    "    # define a bundle distance/tightness for whole bundle, then sample noise\n",
    "    # this reduces distance variation between helices within the same bundle\n",
    "    for i in range(num_helices):\n",
    "        phi1 = np.random.random_sample()*360 # continuous uniform dist for phi1\n",
    "        r0 = np.random.normal(bundle_dist*hyp_f, 0.18*hyp_f) # sample distances around bundle_dist with noise\n",
    "        r0s.append(r0)\n",
    "        r0_2 = np.random.normal(bundle_dist*hyp_f, 0.18*hyp_f)\n",
    "        angle_increment = 2*np.arcsin(r0_2 / (2*r0)) # distance to adjacent helix, also same normal dist\n",
    "        tot_angle += angle_increment\n",
    "        phi0s.append(tot_angle)\n",
    "        dz = (np.random.random_sample()*1.5) -0.75 # sample full range of deltaz, since rise of ahelix is 1.5\n",
    "        helices.append(moving(r0, radians(omega0), radians(omega1), tot_angle, radians(phi1), dz, helix_length,False))\n",
    "            \n",
    "    buttresses = []\n",
    "    for j in range(num_helices - 1):\n",
    "        A_ind = 1 + j\n",
    "        B_ind = 2 + j\n",
    "        buttresses.append(generator(r0s[A_ind],r0s[B_ind],r0s[0],phi0s[A_ind],phi0s[B_ind],phi0s[0],radians(omega0),radians(omega0),radians(omega1),radians(omega1),0.00000001,0.00000001,helix_length,helix_length,bundle_dist,file_name))\n",
    "    helices += buttresses # add buttresses to end\n",
    "\n",
    "    design_name = file_name+'_'+str(round(-omega0,3))+'_'+str(round(bundle_dist,3))\n",
    "    assemble_helices(helices, design_name)\n",
    "    \n",
    "    return design_name"
   ]
  },
  {
   "cell_type": "code",
   "execution_count": 5,
   "metadata": {},
   "outputs": [
    {
     "data": {
      "text/plain": [
       "<AxesSubplot:>"
      ]
     },
     "execution_count": 5,
     "metadata": {},
     "output_type": "execute_result"
    },
    {
     "data": {
      "image/png": "[encoded data removed]",
      "text/plain": [
       "<Figure size 432x288 with 1 Axes>"
      ]
     },
     "metadata": {
      "needs_background": "light"
     },
     "output_type": "display_data"
    }
   ],
   "source": [
    "# OLD SAMPLING DISTRIBUTIONS\n",
    "sns.distplot(np.random.normal(9,.7,100000), kde=False)\n",
    "sns.distplot(np.random.normal(8,.25,100000), kde=False)"
   ]
  },
  {
   "cell_type": "code",
   "execution_count": 3,
   "metadata": {},
   "outputs": [
    {
     "data": {
      "image/png": "[encoded data removed]",
      "text/plain": [
       "<Figure size 432x288 with 1 Axes>"
      ]
     },
     "metadata": {
      "needs_background": "light"
     },
     "output_type": "display_data"
    }
   ],
   "source": [
    "# NEW SAMPLING DISTRIBUTIONS\n",
    "sns.distplot(np.random.normal(8.75,.4,100000), kde=False)\n",
    "sns.distplot(np.random.normal(9,.18,100000), kde=False)\n",
    "plt.xlabel(\"bundle distance\")\n",
    "plt.savefig('figs/bundle_distance_distributions.pdf')"
   ]
  },
  {
   "cell_type": "code",
   "execution_count": 4,
   "metadata": {},
   "outputs": [
    {
     "data": {
      "image/png": "[encoded data removed]",
      "text/plain": [
       "<Figure size 432x288 with 1 Axes>"
      ]
     },
     "metadata": {
      "needs_background": "light"
     },
     "output_type": "display_data"
    }
   ],
   "source": [
    "os = []\n",
    "for i in range(100000):\n",
    "    omega0 = 0\n",
    "    while omega0 > -1: # set cutoff for omega0 -- require some supercoiling\n",
    "        # SAMPLE OMEGA0 ON GAMMA DISTRIBUTION WITH XFACT MAX\n",
    "        x = np.random.gamma(1.1, .4)\n",
    "        xfact = 1.75\n",
    "        while x > xfact:\n",
    "            x = np.random.gamma(1, .4)\n",
    "        omega0 = (2.85*(x/xfact)-2.85)\n",
    "    os.append(omega0)\n",
    "sns.distplot(os,kde=False)\n",
    "plt.xlabel(\"omega\")\n",
    "plt.savefig('figs/supercoiling_distribution.pdf')"
   ]
  },
  {
   "cell_type": "code",
   "execution_count": 15,
   "metadata": {},
   "outputs": [],
   "source": [
    "pdb_names = []"
   ]
  },
  {
   "cell_type": "code",
   "execution_count": 19,
   "metadata": {
    "scrolled": true
   },
   "outputs": [
    {
     "name": "stdout",
     "output_type": "stream",
     "text": [
      "0\n"
     ]
    }
   ],
   "source": [
    "for i in range(0): # range(200000)\n",
    "    if i %500 == 0:\n",
    "        print(i)\n",
    "    name = \"loops_batch2/input_structures/3h_15\"\n",
    "    pdb_names.append('input_structures/%s.pdb'%(random_sample_design(3, 15, name)).split('/')[-1])\n",
    "    name = \"loops_batch2/input_structures/3h_16\"\n",
    "    pdb_names.append('input_structures/%s.pdb'%(random_sample_design(3, 16, name)).split('/')[-1])\n",
    "    name = \"loops_batch2/input_structures/3h_17\"\n",
    "    pdb_names.append('input_structures/%s.pdb'%(random_sample_design(3, 17, name)).split('/')[-1])\n",
    "    name = \"loops_batch2/input_structures/3h_18\"\n",
    "    pdb_names.append('input_structures/%s.pdb'%(random_sample_design(3, 18, name)).split('/')[-1])\n",
    "    name = \"loops_batch2/input_structures/3h_19\"\n",
    "    pdb_names.append('input_structures/%s.pdb'%(random_sample_design(3, 19, name)).split('/')[-1])"
   ]
  },
  {
   "cell_type": "code",
   "execution_count": null,
   "metadata": {},
   "outputs": [],
   "source": [
    "rosetta_path = \"/software/rosetta/versions/v2019.21-dev60746/bin/rosetta_scripts.hdf5.linuxgccrelease\" # static version\n",
    "commandList=[]\n",
    "for i in range(len(pdb_names)):\n",
    "    command='%s @flags -in:file:s %s'%(rosetta_path,pdb_names[i])\n",
    "    commandList.append(command)\n",
    "with open(\"loops/tasks\",\"w\") as f:\n",
    "    for task in commandList:\n",
    "        f.write(task + \"\\n\")"
   ]
  },
  {
   "cell_type": "code",
   "execution_count": null,
   "metadata": {},
   "outputs": [],
   "source": []
  },
  {
   "cell_type": "code",
   "execution_count": null,
   "metadata": {},
   "outputs": [],
   "source": []
  },
  {
   "cell_type": "code",
   "execution_count": null,
   "metadata": {},
   "outputs": [],
   "source": []
  },
  {
   "cell_type": "code",
   "execution_count": null,
   "metadata": {},
   "outputs": [],
   "source": []
  },
  {
   "cell_type": "code",
   "execution_count": null,
   "metadata": {},
   "outputs": [],
   "source": []
  },
  {
   "cell_type": "code",
   "execution_count": null,
   "metadata": {},
   "outputs": [],
   "source": []
  },
  {
   "cell_type": "code",
   "execution_count": null,
   "metadata": {},
   "outputs": [],
   "source": []
  },
  {
   "cell_type": "code",
   "execution_count": null,
   "metadata": {},
   "outputs": [],
   "source": []
  },
  {
   "cell_type": "code",
   "execution_count": 5,
   "metadata": {},
   "outputs": [
    {
     "name": "stdout",
     "output_type": "stream",
     "text": [
      "0.6672866542669147\n"
     ]
    }
   ],
   "source": [
    "path3 = 'loops_batch2'\n",
    "in_files = glob.glob('{}/input_structures/*.pdb'.format(path3))\n",
    "out_files = glob.glob('{}/output_structures/*.pdb'.format(path3))\n",
    "\n",
    "in_omegas = []\n",
    "in_bs = []\n",
    "in_lens = []\n",
    "for i in in_files:\n",
    "    in_omegas.append(-float(i.split(\"_\")[4]))\n",
    "    in_bs.append(float(i.split(\"_\")[5][:-4]))\n",
    "    in_lens.append(float(i.split(\"_\")[3]))\n",
    "out_omegas = []\n",
    "out_bs = []\n",
    "out_lens = []\n",
    "for i in out_files:\n",
    "    out_omegas.append(-float(i.split(\"_\")[4]))\n",
    "    out_bs.append(float(i.split(\"_\")[5]))\n",
    "    out_lens.append(float(i.split(\"_\")[3]))\n",
    "\n",
    "print(len(out_omegas)/len(in_omegas))"
   ]
  },
  {
   "cell_type": "code",
   "execution_count": 7,
   "metadata": {},
   "outputs": [
    {
     "data": {
      "image/png": "[encoded data removed]",
      "text/plain": [
       "<Figure size 432x288 with 1 Axes>"
      ]
     },
     "metadata": {
      "needs_background": "light"
     },
     "output_type": "display_data"
    }
   ],
   "source": [
    "sns.distplot(in_omegas, kde=False, label=\"input structures\")\n",
    "sns.distplot(out_omegas, kde=False,label=\"output structures\")\n",
    "plt.xlabel(\"omega\")\n",
    "plt.legend()\n",
    "plt.savefig('supercoiling_in_out.pdf')"
   ]
  },
  {
   "cell_type": "code",
   "execution_count": 4,
   "metadata": {},
   "outputs": [
    {
     "data": {
      "text/plain": [
       "<matplotlib.legend.Legend at 0x7fffbe107990>"
      ]
     },
     "execution_count": 4,
     "metadata": {},
     "output_type": "execute_result"
    },
    {
     "data": {
      "image/png": "[encoded data removed]",
      "text/plain": [
       "<Figure size 432x288 with 1 Axes>"
      ]
     },
     "metadata": {
      "needs_background": "light"
     },
     "output_type": "display_data"
    }
   ],
   "source": [
    "sns.distplot(in_omegas, kde=False, label=\"input structures\")\n",
    "sns.distplot(out_omegas, kde=False,label=\"output structures\")\n",
    "plt.xlabel(\"omega\")\n",
    "plt.legend()"
   ]
  },
  {
   "cell_type": "code",
   "execution_count": 8,
   "metadata": {},
   "outputs": [
    {
     "data": {
      "image/png": "[encoded data removed]",
      "text/plain": [
       "<Figure size 432x288 with 1 Axes>"
      ]
     },
     "metadata": {
      "needs_background": "light"
     },
     "output_type": "display_data"
    }
   ],
   "source": [
    "sns.distplot(in_bs, kde=False, label=\"input structures\")\n",
    "sns.distplot(out_bs, kde=False,label=\"output structures\")\n",
    "plt.xlabel(\"bundle distance\")\n",
    "plt.legend()\n",
    "plt.savefig('bundle_distance_in_out.pdf')"
   ]
  },
  {
   "cell_type": "code",
   "execution_count": 5,
   "metadata": {
    "scrolled": true
   },
   "outputs": [
    {
     "data": {
      "text/plain": [
       "<matplotlib.legend.Legend at 0x7fffbd673cd0>"
      ]
     },
     "execution_count": 5,
     "metadata": {},
     "output_type": "execute_result"
    },
    {
     "data": {
      "image/png": "[encoded data removed]",
      "text/plain": [
       "<Figure size 432x288 with 1 Axes>"
      ]
     },
     "metadata": {
      "needs_background": "light"
     },
     "output_type": "display_data"
    }
   ],
   "source": [
    "sns.distplot(in_bs, kde=False, label=\"input structures\")\n",
    "sns.distplot(out_bs, kde=False,label=\"output structures\")\n",
    "plt.xlabel(\"bundle distance\")\n",
    "plt.legend()"
   ]
  },
  {
   "cell_type": "code",
   "execution_count": 9,
   "metadata": {},
   "outputs": [
    {
     "data": {
      "image/png": "[encoded data removed]",
      "text/plain": [
       "<Figure size 432x288 with 1 Axes>"
      ]
     },
     "metadata": {
      "needs_background": "light"
     },
     "output_type": "display_data"
    }
   ],
   "source": [
    "sns.distplot(in_lens, kde=False, label=\"input structures\")\n",
    "sns.distplot(out_lens, kde=False,label=\"output structures\")\n",
    "plt.xlabel(\"length\")\n",
    "plt.legend()\n",
    "plt.savefig('length_in_out.pdf')"
   ]
  },
  {
   "cell_type": "code",
   "execution_count": null,
   "metadata": {},
   "outputs": [],
   "source": []
  }
 ],
 "metadata": {
  "kernelspec": {
   "display_name": "Python helix_fitting",
   "language": "python",
   "name": "helix_fitting"
  },
  "language_info": {
   "codemirror_mode": {
    "name": "ipython",
    "version": 3
   },
   "file_extension": ".py",
   "mimetype": "text/x-python",
   "name": "python",
   "nbconvert_exporter": "python",
   "pygments_lexer": "ipython3",
   "version": "3.7.9"
  }
 },
 "nbformat": 4,
 "nbformat_minor": 2
}
