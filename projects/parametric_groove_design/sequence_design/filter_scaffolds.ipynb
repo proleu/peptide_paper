{
 "cells": [
  {
   "cell_type": "code",
   "execution_count": 1,
   "metadata": {},
   "outputs": [],
   "source": [
    "import pandas as pd\n",
    "import matplotlib.pyplot as plt\n",
    "import numpy as np\n",
    "import seaborn as sns"
   ]
  },
  {
   "cell_type": "code",
   "execution_count": 26,
   "metadata": {},
   "outputs": [],
   "source": [
    "def read_data(score_files):\n",
    "    df=pd.DataFrame()\n",
    "    for score_file in score_files:\n",
    "        df_i = pd.read_csv(\n",
    "            score_file, # file name\n",
    "            delim_whitespace=True, # columns are separated by spaces\n",
    "            skiprows=[0] # skip first line/\n",
    "        )\n",
    "        df.head()\n",
    "        #df_i['score_file'] = score_file[-17]\n",
    "        df=df.append(df_i)\n",
    "        del df['SCORE:']\n",
    "        \n",
    "        df['name'] = df['description']\n",
    "        df = df[pd.notnull(df['name'])]\n",
    "        df.set_index('description', inplace=True)\n",
    "        df['bundle_len'] = df['name'].apply(lambda x: float(x.split('_')[1]))\n",
    "        df['omega_param'] = df['name'].apply(lambda x: -float(x.split('_')[2]))\n",
    "        df['bundle_dist'] = df['name'].apply(lambda x: float(x.split('_')[3]))\n",
    "        df[\"nRES\"] = df['chain_A_sequence'].str.len()\n",
    "        df['score_per_res'] = (df['total_score'] / df['nRES']).astype(float)\n",
    "        df['nALA'] = df['chain_A_sequence'].str.count('A')\n",
    "        df['percALA']=df['nALA']/df['nRES']\n",
    "        \n",
    "    return df"
   ]
  },
  {
   "cell_type": "code",
   "execution_count": 23,
   "metadata": {},
   "outputs": [
    {
     "data": {
      "text/plain": [
       "Index(['total_score', 'buns', 'buns_all', 'buried_npsa_FAMILYVW',\n",
       "       'buried_npsa_FAMILYVW_per_res', 'charge_chA', 'dslf_fa13',\n",
       "       'exposed_hydrophobics', 'fa_atr', 'fa_dun_dev', 'fa_dun_rot',\n",
       "       'fa_dun_semi', 'fa_elec', 'fa_intra_atr_xover4', 'fa_intra_elec',\n",
       "       'fa_intra_rep_xover4', 'fa_intra_sol_xover4', 'fa_rep', 'fa_sol',\n",
       "       'hbond_bb_sc', 'hbond_lr_bb', 'hbond_sc', 'hbond_sr_bb', 'holes',\n",
       "       'holes_old', 'hxl_tors', 'lk_ball', 'lk_ball_bridge',\n",
       "       'lk_ball_bridge_uncpl', 'lk_ball_iso', 'nALA', 'nARG', 'nHIS', 'nMET',\n",
       "       'nTRP', 'nTYR', 'omega', 'p_aa_pp', 'packstat_all', 'pro_close',\n",
       "       'psipred', 'rama_prepro', 'ref', 'chain_A_sequence', 'name',\n",
       "       'bundle_len', 'omega_param', 'bundle_dist', 'nRES', 'score_per_res'],\n",
       "      dtype='object')"
      ]
     },
     "execution_count": 23,
     "metadata": {},
     "output_type": "execute_result"
    }
   ],
   "source": [
    "scores.columns"
   ]
  },
  {
   "cell_type": "code",
   "execution_count": 27,
   "metadata": {
    "scrolled": false
   },
   "outputs": [
    {
     "data": {
      "text/plain": [
       "(5837, 51)"
      ]
     },
     "execution_count": 27,
     "metadata": {},
     "output_type": "execute_result"
    }
   ],
   "source": [
    "scores = read_data(['scores/score.sc'])\n",
    "scores.shape"
   ]
  },
  {
   "cell_type": "code",
   "execution_count": 107,
   "metadata": {},
   "outputs": [
    {
     "data": {
      "text/html": [
       "<div>\n",
       "<style scoped>\n",
       "    .dataframe tbody tr th:only-of-type {\n",
       "        vertical-align: middle;\n",
       "    }\n",
       "\n",
       "    .dataframe tbody tr th {\n",
       "        vertical-align: top;\n",
       "    }\n",
       "\n",
       "    .dataframe thead th {\n",
       "        text-align: right;\n",
       "    }\n",
       "</style>\n",
       "<table border=\"1\" class=\"dataframe\">\n",
       "  <thead>\n",
       "    <tr style=\"text-align: right;\">\n",
       "      <th></th>\n",
       "      <th>total_score</th>\n",
       "      <th>buns</th>\n",
       "      <th>buns_all</th>\n",
       "      <th>buried_npsa_FAMILYVW</th>\n",
       "      <th>buried_npsa_FAMILYVW_per_res</th>\n",
       "      <th>charge_chA</th>\n",
       "      <th>dslf_fa13</th>\n",
       "      <th>exposed_hydrophobics</th>\n",
       "      <th>fa_atr</th>\n",
       "      <th>fa_dun_dev</th>\n",
       "      <th>...</th>\n",
       "      <th>psipred</th>\n",
       "      <th>rama_prepro</th>\n",
       "      <th>ref</th>\n",
       "      <th>chain_A_sequence</th>\n",
       "      <th>name</th>\n",
       "      <th>bundle_len</th>\n",
       "      <th>omega_param</th>\n",
       "      <th>bundle_dist</th>\n",
       "      <th>nRES</th>\n",
       "      <th>score_per_res</th>\n",
       "    </tr>\n",
       "    <tr>\n",
       "      <th>description</th>\n",
       "      <th></th>\n",
       "      <th></th>\n",
       "      <th></th>\n",
       "      <th></th>\n",
       "      <th></th>\n",
       "      <th></th>\n",
       "      <th></th>\n",
       "      <th></th>\n",
       "      <th></th>\n",
       "      <th></th>\n",
       "      <th></th>\n",
       "      <th></th>\n",
       "      <th></th>\n",
       "      <th></th>\n",
       "      <th></th>\n",
       "      <th></th>\n",
       "      <th></th>\n",
       "      <th></th>\n",
       "      <th></th>\n",
       "      <th></th>\n",
       "      <th></th>\n",
       "    </tr>\n",
       "  </thead>\n",
       "  <tbody>\n",
       "    <tr>\n",
       "      <th>3h_14_0.677_7.968_looped_0001_0001</th>\n",
       "      <td>-132.734</td>\n",
       "      <td>1.0</td>\n",
       "      <td>5.0</td>\n",
       "      <td>3280.944</td>\n",
       "      <td>49.711</td>\n",
       "      <td>-6.0</td>\n",
       "      <td>0.0</td>\n",
       "      <td>105.501</td>\n",
       "      <td>-359.200</td>\n",
       "      <td>5.907</td>\n",
       "      <td>...</td>\n",
       "      <td>0.864</td>\n",
       "      <td>5.291</td>\n",
       "      <td>-54.175</td>\n",
       "      <td>SSEEAKEAEKRNDPEEIKKAQEKVNDEVVLRAAAKAFASEEEQKRL...</td>\n",
       "      <td>3h_14_0.677_7.968_looped_0001_0001</td>\n",
       "      <td>14.0</td>\n",
       "      <td>-0.677</td>\n",
       "      <td>7.968</td>\n",
       "      <td>66</td>\n",
       "      <td>-2.011121</td>\n",
       "    </tr>\n",
       "    <tr>\n",
       "      <th>3h_14_0.97_9.219_looped_0001_0001</th>\n",
       "      <td>-151.849</td>\n",
       "      <td>3.0</td>\n",
       "      <td>5.0</td>\n",
       "      <td>3258.597</td>\n",
       "      <td>50.916</td>\n",
       "      <td>-10.0</td>\n",
       "      <td>0.0</td>\n",
       "      <td>113.733</td>\n",
       "      <td>-345.309</td>\n",
       "      <td>8.425</td>\n",
       "      <td>...</td>\n",
       "      <td>0.953</td>\n",
       "      <td>-10.135</td>\n",
       "      <td>-70.827</td>\n",
       "      <td>SEEVKEELKRIDKEEELEELKKKVDDSELQLEILKAEGASEEELKE...</td>\n",
       "      <td>3h_14_0.97_9.219_looped_0001_0001</td>\n",
       "      <td>14.0</td>\n",
       "      <td>-0.970</td>\n",
       "      <td>9.219</td>\n",
       "      <td>64</td>\n",
       "      <td>-2.372641</td>\n",
       "    </tr>\n",
       "    <tr>\n",
       "      <th>3h_14_0.499_8.818_looped_0001_0001</th>\n",
       "      <td>-164.725</td>\n",
       "      <td>1.0</td>\n",
       "      <td>7.0</td>\n",
       "      <td>3758.338</td>\n",
       "      <td>48.184</td>\n",
       "      <td>-6.0</td>\n",
       "      <td>0.0</td>\n",
       "      <td>192.127</td>\n",
       "      <td>-423.063</td>\n",
       "      <td>10.183</td>\n",
       "      <td>...</td>\n",
       "      <td>0.923</td>\n",
       "      <td>4.247</td>\n",
       "      <td>-85.048</td>\n",
       "      <td>SEEEKKIKELRETGSEEEAEEILRKLPDSQEAAKLQARLAQLKLRD...</td>\n",
       "      <td>3h_14_0.499_8.818_looped_0001_0001</td>\n",
       "      <td>14.0</td>\n",
       "      <td>-0.499</td>\n",
       "      <td>8.818</td>\n",
       "      <td>78</td>\n",
       "      <td>-2.111859</td>\n",
       "    </tr>\n",
       "    <tr>\n",
       "      <th>3h_14_1.399_7.779_looped_0001_0001</th>\n",
       "      <td>-144.420</td>\n",
       "      <td>6.0</td>\n",
       "      <td>11.0</td>\n",
       "      <td>3363.602</td>\n",
       "      <td>53.391</td>\n",
       "      <td>-8.0</td>\n",
       "      <td>0.0</td>\n",
       "      <td>113.335</td>\n",
       "      <td>-321.364</td>\n",
       "      <td>4.613</td>\n",
       "      <td>...</td>\n",
       "      <td>0.905</td>\n",
       "      <td>-5.500</td>\n",
       "      <td>-49.432</td>\n",
       "      <td>SELAKEARRLAEEGTDERELEEAKRNADSQKAKVAAINDEEELRRA...</td>\n",
       "      <td>3h_14_1.399_7.779_looped_0001_0001</td>\n",
       "      <td>14.0</td>\n",
       "      <td>-1.399</td>\n",
       "      <td>7.779</td>\n",
       "      <td>63</td>\n",
       "      <td>-2.292381</td>\n",
       "    </tr>\n",
       "    <tr>\n",
       "      <th>3h_14_1.264_8.862_looped_0001_0001</th>\n",
       "      <td>-150.597</td>\n",
       "      <td>2.0</td>\n",
       "      <td>5.0</td>\n",
       "      <td>3877.454</td>\n",
       "      <td>53.854</td>\n",
       "      <td>-9.0</td>\n",
       "      <td>0.0</td>\n",
       "      <td>308.661</td>\n",
       "      <td>-406.115</td>\n",
       "      <td>6.791</td>\n",
       "      <td>...</td>\n",
       "      <td>0.903</td>\n",
       "      <td>-6.701</td>\n",
       "      <td>-74.648</td>\n",
       "      <td>SEEVERWREKIRRGDKEAEEEIRQEIERLRETLSEEEEVKMLLILI...</td>\n",
       "      <td>3h_14_1.264_8.862_looped_0001_0001</td>\n",
       "      <td>14.0</td>\n",
       "      <td>-1.264</td>\n",
       "      <td>8.862</td>\n",
       "      <td>72</td>\n",
       "      <td>-2.091625</td>\n",
       "    </tr>\n",
       "  </tbody>\n",
       "</table>\n",
       "<p>5 rows × 50 columns</p>\n",
       "</div>"
      ],
      "text/plain": [
       "                                    total_score  buns  buns_all  \\\n",
       "description                                                       \n",
       "3h_14_0.677_7.968_looped_0001_0001     -132.734   1.0       5.0   \n",
       "3h_14_0.97_9.219_looped_0001_0001      -151.849   3.0       5.0   \n",
       "3h_14_0.499_8.818_looped_0001_0001     -164.725   1.0       7.0   \n",
       "3h_14_1.399_7.779_looped_0001_0001     -144.420   6.0      11.0   \n",
       "3h_14_1.264_8.862_looped_0001_0001     -150.597   2.0       5.0   \n",
       "\n",
       "                                    buried_npsa_FAMILYVW  \\\n",
       "description                                                \n",
       "3h_14_0.677_7.968_looped_0001_0001              3280.944   \n",
       "3h_14_0.97_9.219_looped_0001_0001               3258.597   \n",
       "3h_14_0.499_8.818_looped_0001_0001              3758.338   \n",
       "3h_14_1.399_7.779_looped_0001_0001              3363.602   \n",
       "3h_14_1.264_8.862_looped_0001_0001              3877.454   \n",
       "\n",
       "                                    buried_npsa_FAMILYVW_per_res  charge_chA  \\\n",
       "description                                                                    \n",
       "3h_14_0.677_7.968_looped_0001_0001                        49.711        -6.0   \n",
       "3h_14_0.97_9.219_looped_0001_0001                         50.916       -10.0   \n",
       "3h_14_0.499_8.818_looped_0001_0001                        48.184        -6.0   \n",
       "3h_14_1.399_7.779_looped_0001_0001                        53.391        -8.0   \n",
       "3h_14_1.264_8.862_looped_0001_0001                        53.854        -9.0   \n",
       "\n",
       "                                    dslf_fa13  exposed_hydrophobics   fa_atr  \\\n",
       "description                                                                    \n",
       "3h_14_0.677_7.968_looped_0001_0001        0.0               105.501 -359.200   \n",
       "3h_14_0.97_9.219_looped_0001_0001         0.0               113.733 -345.309   \n",
       "3h_14_0.499_8.818_looped_0001_0001        0.0               192.127 -423.063   \n",
       "3h_14_1.399_7.779_looped_0001_0001        0.0               113.335 -321.364   \n",
       "3h_14_1.264_8.862_looped_0001_0001        0.0               308.661 -406.115   \n",
       "\n",
       "                                    fa_dun_dev  ...  psipred  rama_prepro  \\\n",
       "description                                     ...                         \n",
       "3h_14_0.677_7.968_looped_0001_0001       5.907  ...    0.864        5.291   \n",
       "3h_14_0.97_9.219_looped_0001_0001        8.425  ...    0.953      -10.135   \n",
       "3h_14_0.499_8.818_looped_0001_0001      10.183  ...    0.923        4.247   \n",
       "3h_14_1.399_7.779_looped_0001_0001       4.613  ...    0.905       -5.500   \n",
       "3h_14_1.264_8.862_looped_0001_0001       6.791  ...    0.903       -6.701   \n",
       "\n",
       "                                        ref  \\\n",
       "description                                   \n",
       "3h_14_0.677_7.968_looped_0001_0001  -54.175   \n",
       "3h_14_0.97_9.219_looped_0001_0001   -70.827   \n",
       "3h_14_0.499_8.818_looped_0001_0001  -85.048   \n",
       "3h_14_1.399_7.779_looped_0001_0001  -49.432   \n",
       "3h_14_1.264_8.862_looped_0001_0001  -74.648   \n",
       "\n",
       "                                                                     chain_A_sequence  \\\n",
       "description                                                                             \n",
       "3h_14_0.677_7.968_looped_0001_0001  SSEEAKEAEKRNDPEEIKKAQEKVNDEVVLRAAAKAFASEEEQKRL...   \n",
       "3h_14_0.97_9.219_looped_0001_0001   SEEVKEELKRIDKEEELEELKKKVDDSELQLEILKAEGASEEELKE...   \n",
       "3h_14_0.499_8.818_looped_0001_0001  SEEEKKIKELRETGSEEEAEEILRKLPDSQEAAKLQARLAQLKLRD...   \n",
       "3h_14_1.399_7.779_looped_0001_0001  SELAKEARRLAEEGTDERELEEAKRNADSQKAKVAAINDEEELRRA...   \n",
       "3h_14_1.264_8.862_looped_0001_0001  SEEVERWREKIRRGDKEAEEEIRQEIERLRETLSEEEEVKMLLILI...   \n",
       "\n",
       "                                                                  name  \\\n",
       "description                                                              \n",
       "3h_14_0.677_7.968_looped_0001_0001  3h_14_0.677_7.968_looped_0001_0001   \n",
       "3h_14_0.97_9.219_looped_0001_0001    3h_14_0.97_9.219_looped_0001_0001   \n",
       "3h_14_0.499_8.818_looped_0001_0001  3h_14_0.499_8.818_looped_0001_0001   \n",
       "3h_14_1.399_7.779_looped_0001_0001  3h_14_1.399_7.779_looped_0001_0001   \n",
       "3h_14_1.264_8.862_looped_0001_0001  3h_14_1.264_8.862_looped_0001_0001   \n",
       "\n",
       "                                    bundle_len  omega_param  bundle_dist  \\\n",
       "description                                                                \n",
       "3h_14_0.677_7.968_looped_0001_0001        14.0       -0.677        7.968   \n",
       "3h_14_0.97_9.219_looped_0001_0001         14.0       -0.970        9.219   \n",
       "3h_14_0.499_8.818_looped_0001_0001        14.0       -0.499        8.818   \n",
       "3h_14_1.399_7.779_looped_0001_0001        14.0       -1.399        7.779   \n",
       "3h_14_1.264_8.862_looped_0001_0001        14.0       -1.264        8.862   \n",
       "\n",
       "                                    nRES  score_per_res  \n",
       "description                                              \n",
       "3h_14_0.677_7.968_looped_0001_0001    66      -2.011121  \n",
       "3h_14_0.97_9.219_looped_0001_0001     64      -2.372641  \n",
       "3h_14_0.499_8.818_looped_0001_0001    78      -2.111859  \n",
       "3h_14_1.399_7.779_looped_0001_0001    63      -2.292381  \n",
       "3h_14_1.264_8.862_looped_0001_0001    72      -2.091625  \n",
       "\n",
       "[5 rows x 50 columns]"
      ]
     },
     "execution_count": 107,
     "metadata": {},
     "output_type": "execute_result"
    }
   ],
   "source": [
    "scores.head()"
   ]
  },
  {
   "cell_type": "code",
   "execution_count": 4,
   "metadata": {
    "scrolled": false
   },
   "outputs": [
    {
     "data": {
      "text/plain": [
       "count    5837.000000\n",
       "mean       56.039431\n",
       "std         5.462945\n",
       "min        29.918000\n",
       "25%        52.568000\n",
       "50%        56.181000\n",
       "75%        59.767000\n",
       "max        73.468000\n",
       "Name: buried_npsa_FAMILYVW_per_res, dtype: float64"
      ]
     },
     "execution_count": 4,
     "metadata": {},
     "output_type": "execute_result"
    }
   ],
   "source": [
    "scores['buried_npsa_FAMILYVW_per_res'].describe()"
   ]
  },
  {
   "cell_type": "code",
   "execution_count": 5,
   "metadata": {
    "scrolled": true
   },
   "outputs": [
    {
     "data": {
      "image/png": "[encoded data removed]",
      "text/plain": [
       "<Figure size 432x288 with 1 Axes>"
      ]
     },
     "metadata": {
      "needs_background": "light"
     },
     "output_type": "display_data"
    }
   ],
   "source": [
    "scores['buried_npsa_FAMILYVW_per_res'].hist(bins=20)\n",
    "plt.show()"
   ]
  },
  {
   "cell_type": "code",
   "execution_count": 28,
   "metadata": {},
   "outputs": [
    {
     "data": {
      "text/plain": [
       "count    5837.000000\n",
       "mean        0.103102\n",
       "std         0.057027\n",
       "min         0.000000\n",
       "25%         0.065934\n",
       "50%         0.083333\n",
       "75%         0.134831\n",
       "max         0.342466\n",
       "Name: percALA, dtype: float64"
      ]
     },
     "execution_count": 28,
     "metadata": {},
     "output_type": "execute_result"
    }
   ],
   "source": [
    "scores['percALA'].describe()"
   ]
  },
  {
   "cell_type": "code",
   "execution_count": 29,
   "metadata": {},
   "outputs": [
    {
     "data": {
      "text/plain": [
       "<matplotlib.axes._subplots.AxesSubplot at 0x7fffc58cf710>"
      ]
     },
     "execution_count": 29,
     "metadata": {},
     "output_type": "execute_result"
    },
    {
     "data": {
      "image/png": "[encoded data removed]",
      "text/plain": [
       "<Figure size 432x288 with 1 Axes>"
      ]
     },
     "metadata": {
      "needs_background": "light"
     },
     "output_type": "display_data"
    }
   ],
   "source": [
    "scores['percALA'].hist()"
   ]
  },
  {
   "cell_type": "code",
   "execution_count": 8,
   "metadata": {},
   "outputs": [
    {
     "data": {
      "text/plain": [
       "count    5837.000000\n",
       "mean       87.277026\n",
       "std         9.360526\n",
       "min        59.000000\n",
       "25%        81.000000\n",
       "50%        87.000000\n",
       "75%        94.000000\n",
       "max       117.000000\n",
       "Name: nRES, dtype: float64"
      ]
     },
     "execution_count": 8,
     "metadata": {},
     "output_type": "execute_result"
    }
   ],
   "source": [
    "scores['nRES'].describe()"
   ]
  },
  {
   "cell_type": "code",
   "execution_count": 22,
   "metadata": {},
   "outputs": [
    {
     "data": {
      "text/plain": [
       "<matplotlib.axes._subplots.AxesSubplot at 0x7fffcef8de80>"
      ]
     },
     "execution_count": 22,
     "metadata": {},
     "output_type": "execute_result"
    },
    {
     "data": {
      "image/png": "[encoded data removed]",
      "text/plain": [
       "<Figure size 432x288 with 1 Axes>"
      ]
     },
     "metadata": {
      "needs_background": "light"
     },
     "output_type": "display_data"
    }
   ],
   "source": [
    "scores['nRES'].hist()"
   ]
  },
  {
   "cell_type": "code",
   "execution_count": 6,
   "metadata": {
    "scrolled": true
   },
   "outputs": [
    {
     "data": {
      "text/plain": [
       "count    5837.000000\n",
       "mean       -2.374643\n",
       "std         0.160434\n",
       "min        -2.960346\n",
       "25%        -2.485952\n",
       "50%        -2.381525\n",
       "75%        -2.273750\n",
       "max        -1.526440\n",
       "Name: score_per_res, dtype: float64"
      ]
     },
     "execution_count": 6,
     "metadata": {},
     "output_type": "execute_result"
    }
   ],
   "source": [
    "scores['score_per_res'].describe()"
   ]
  },
  {
   "cell_type": "code",
   "execution_count": 7,
   "metadata": {},
   "outputs": [
    {
     "data": {
      "text/plain": [
       "<matplotlib.axes._subplots.AxesSubplot at 0x7fffcf51e0b8>"
      ]
     },
     "execution_count": 7,
     "metadata": {},
     "output_type": "execute_result"
    },
    {
     "data": {
      "image/png": "[encoded data removed]",
      "text/plain": [
       "<Figure size 432x288 with 1 Axes>"
      ]
     },
     "metadata": {
      "needs_background": "light"
     },
     "output_type": "display_data"
    }
   ],
   "source": [
    "sns.scatterplot(x=scores['bundle_len'],y=scores['score_per_res'])"
   ]
  },
  {
   "cell_type": "code",
   "execution_count": 9,
   "metadata": {},
   "outputs": [
    {
     "data": {
      "text/plain": [
       "<matplotlib.axes._subplots.AxesSubplot at 0x7fffcf405f28>"
      ]
     },
     "execution_count": 9,
     "metadata": {},
     "output_type": "execute_result"
    },
    {
     "data": {
      "image/png": "[encoded data removed]",
      "text/plain": [
       "<Figure size 432x288 with 1 Axes>"
      ]
     },
     "metadata": {
      "needs_background": "light"
     },
     "output_type": "display_data"
    }
   ],
   "source": [
    "sns.scatterplot(x=scores['bundle_dist'],y=scores['score_per_res'])"
   ]
  },
  {
   "cell_type": "code",
   "execution_count": 10,
   "metadata": {
    "scrolled": false
   },
   "outputs": [
    {
     "data": {
      "text/plain": [
       "<matplotlib.axes._subplots.AxesSubplot at 0x7fffcf3bacf8>"
      ]
     },
     "execution_count": 10,
     "metadata": {},
     "output_type": "execute_result"
    },
    {
     "data": {
      "image/png": "[encoded data removed]",
      "text/plain": [
       "<Figure size 432x288 with 1 Axes>"
      ]
     },
     "metadata": {
      "needs_background": "light"
     },
     "output_type": "display_data"
    }
   ],
   "source": [
    "sns.scatterplot(x=scores['omega_param'],y=scores['score_per_res'])"
   ]
  },
  {
   "cell_type": "code",
   "execution_count": 11,
   "metadata": {
    "scrolled": true
   },
   "outputs": [
    {
     "data": {
      "image/png": "[encoded data removed]",
      "text/plain": [
       "<Figure size 432x288 with 1 Axes>"
      ]
     },
     "metadata": {
      "needs_background": "light"
     },
     "output_type": "display_data"
    }
   ],
   "source": [
    "scores['score_per_res'].hist(bins=20)\n",
    "plt.show()"
   ]
  },
  {
   "cell_type": "code",
   "execution_count": 12,
   "metadata": {
    "scrolled": false
   },
   "outputs": [
    {
     "data": {
      "text/plain": [
       "count    5837.000000\n",
       "mean      228.794767\n",
       "std        80.670249\n",
       "min        24.988000\n",
       "25%       170.754000\n",
       "50%       223.345000\n",
       "75%       279.962000\n",
       "max       585.357000\n",
       "Name: exposed_hydrophobics, dtype: float64"
      ]
     },
     "execution_count": 12,
     "metadata": {},
     "output_type": "execute_result"
    }
   ],
   "source": [
    "scores['exposed_hydrophobics'].describe()\n"
   ]
  },
  {
   "cell_type": "code",
   "execution_count": 13,
   "metadata": {},
   "outputs": [
    {
     "data": {
      "image/png": "[encoded data removed]",
      "text/plain": [
       "<Figure size 432x288 with 1 Axes>"
      ]
     },
     "metadata": {
      "needs_background": "light"
     },
     "output_type": "display_data"
    }
   ],
   "source": [
    "scores['exposed_hydrophobics'].hist(bins=20)\n",
    "plt.show()"
   ]
  },
  {
   "cell_type": "code",
   "execution_count": 119,
   "metadata": {
    "scrolled": true
   },
   "outputs": [
    {
     "data": {
      "text/plain": [
       "count    5790.000000\n",
       "mean       -1.151148\n",
       "std         0.698458\n",
       "min        -4.398000\n",
       "25%        -1.614750\n",
       "50%        -1.121000\n",
       "75%        -0.679000\n",
       "max         0.943000\n",
       "Name: holes, dtype: float64"
      ]
     },
     "execution_count": 119,
     "metadata": {},
     "output_type": "execute_result"
    }
   ],
   "source": [
    "scores['holes'].describe()"
   ]
  },
  {
   "cell_type": "code",
   "execution_count": 120,
   "metadata": {
    "scrolled": true
   },
   "outputs": [
    {
     "data": {
      "text/plain": [
       "<matplotlib.axes._subplots.AxesSubplot at 0x7fffcaaaacf8>"
      ]
     },
     "execution_count": 120,
     "metadata": {},
     "output_type": "execute_result"
    },
    {
     "data": {
      "image/png": "[encoded data removed]",
      "text/plain": [
       "<Figure size 432x288 with 1 Axes>"
      ]
     },
     "metadata": {
      "needs_background": "light"
     },
     "output_type": "display_data"
    }
   ],
   "source": [
    "scores['holes'].hist()"
   ]
  },
  {
   "cell_type": "markdown",
   "metadata": {},
   "source": [
    "## Only select the good ones "
   ]
  },
  {
   "cell_type": "code",
   "execution_count": 30,
   "metadata": {
    "scrolled": false
   },
   "outputs": [
    {
     "data": {
      "text/plain": [
       "(1394, 51)"
      ]
     },
     "execution_count": 30,
     "metadata": {},
     "output_type": "execute_result"
    }
   ],
   "source": [
    "scores1=scores[scores['buried_npsa_FAMILYVW_per_res'] >= 60]#>=80]\n",
    "scores1.shape"
   ]
  },
  {
   "cell_type": "code",
   "execution_count": 31,
   "metadata": {},
   "outputs": [
    {
     "data": {
      "text/plain": [
       "(619, 51)"
      ]
     },
     "execution_count": 31,
     "metadata": {},
     "output_type": "execute_result"
    }
   ],
   "source": [
    "scores2=scores1[scores1['score_per_res']<=-2.5]#-3.0]\n",
    "scores2.shape\n"
   ]
  },
  {
   "cell_type": "code",
   "execution_count": 32,
   "metadata": {},
   "outputs": [
    {
     "data": {
      "text/plain": [
       "(285, 51)"
      ]
     },
     "execution_count": 32,
     "metadata": {},
     "output_type": "execute_result"
    }
   ],
   "source": [
    "scores3=scores2[scores2['percALA']<=0.1]\n",
    "scores3.shape"
   ]
  },
  {
   "cell_type": "code",
   "execution_count": 33,
   "metadata": {},
   "outputs": [
    {
     "data": {
      "text/plain": [
       "(272, 51)"
      ]
     },
     "execution_count": 33,
     "metadata": {},
     "output_type": "execute_result"
    }
   ],
   "source": [
    "scores4=scores3[scores3['holes']<=0]\n",
    "scores4.shape"
   ]
  },
  {
   "cell_type": "code",
   "execution_count": 34,
   "metadata": {},
   "outputs": [
    {
     "data": {
      "text/plain": [
       "<matplotlib.axes._subplots.AxesSubplot at 0x7fffcf2009e8>"
      ]
     },
     "execution_count": 34,
     "metadata": {},
     "output_type": "execute_result"
    },
    {
     "data": {
      "image/png": "[encoded data removed]",
      "text/plain": [
       "<Figure size 432x288 with 1 Axes>"
      ]
     },
     "metadata": {
      "needs_background": "light"
     },
     "output_type": "display_data"
    }
   ],
   "source": [
    "scores4['omega_param'].hist()"
   ]
  },
  {
   "cell_type": "code",
   "execution_count": 35,
   "metadata": {
    "scrolled": true
   },
   "outputs": [
    {
     "data": {
      "text/plain": [
       "<matplotlib.axes._subplots.AxesSubplot at 0x7fffcf12d588>"
      ]
     },
     "execution_count": 35,
     "metadata": {},
     "output_type": "execute_result"
    },
    {
     "data": {
      "image/png": "[encoded data removed]",
      "text/plain": [
       "<Figure size 432x288 with 1 Axes>"
      ]
     },
     "metadata": {
      "needs_background": "light"
     },
     "output_type": "display_data"
    }
   ],
   "source": [
    "scores4['bundle_dist'].hist()"
   ]
  },
  {
   "cell_type": "code",
   "execution_count": 36,
   "metadata": {
    "scrolled": true
   },
   "outputs": [
    {
     "data": {
      "text/plain": [
       "<matplotlib.axes._subplots.AxesSubplot at 0x7fffceff9fd0>"
      ]
     },
     "execution_count": 36,
     "metadata": {},
     "output_type": "execute_result"
    },
    {
     "data": {
      "image/png": "[encoded data removed]",
      "text/plain": [
       "<Figure size 432x288 with 1 Axes>"
      ]
     },
     "metadata": {
      "needs_background": "light"
     },
     "output_type": "display_data"
    }
   ],
   "source": [
    "scores4['bundle_len'].hist()"
   ]
  },
  {
   "cell_type": "code",
   "execution_count": 199,
   "metadata": {},
   "outputs": [
    {
     "data": {
      "text/plain": [
       "numpy.ndarray"
      ]
     },
     "execution_count": 199,
     "metadata": {},
     "output_type": "execute_result"
    }
   ],
   "source": [
    "type(scores4.index.values)"
   ]
  },
  {
   "cell_type": "code",
   "execution_count": null,
   "metadata": {},
   "outputs": [],
   "source": []
  },
  {
   "cell_type": "code",
   "execution_count": 210,
   "metadata": {},
   "outputs": [
    {
     "data": {
      "text/plain": [
       "pandas.core.frame.DataFrame"
      ]
     },
     "execution_count": 210,
     "metadata": {},
     "output_type": "execute_result"
    }
   ],
   "source": [
    "lista=pd.DataFrame(scores4.index.values)\n",
    "type(lista)"
   ]
  },
  {
   "cell_type": "code",
   "execution_count": 212,
   "metadata": {},
   "outputs": [
    {
     "data": {
      "text/html": [
       "<div>\n",
       "<style scoped>\n",
       "    .dataframe tbody tr th:only-of-type {\n",
       "        vertical-align: middle;\n",
       "    }\n",
       "\n",
       "    .dataframe tbody tr th {\n",
       "        vertical-align: top;\n",
       "    }\n",
       "\n",
       "    .dataframe thead th {\n",
       "        text-align: right;\n",
       "    }\n",
       "</style>\n",
       "<table border=\"1\" class=\"dataframe\">\n",
       "  <thead>\n",
       "    <tr style=\"text-align: right;\">\n",
       "      <th></th>\n",
       "      <th>0</th>\n",
       "    </tr>\n",
       "  </thead>\n",
       "  <tbody>\n",
       "    <tr>\n",
       "      <th>0</th>\n",
       "      <td>DHR20_DHR46_l3_h14_l2_t1_t3_r9_0001_0001_fd19</td>\n",
       "    </tr>\n",
       "    <tr>\n",
       "      <th>1</th>\n",
       "      <td>DHR21_DHR46_l2_t3_t3_0_v3_r11_0001_fd19</td>\n",
       "    </tr>\n",
       "    <tr>\n",
       "      <th>2</th>\n",
       "      <td>DHR72_DHR53_l3_h13_l2_t1_t1_2_v6c_r11_0001_000...</td>\n",
       "    </tr>\n",
       "    <tr>\n",
       "      <th>3</th>\n",
       "      <td>DHR20_DHR47_l2_t0_t2_D15_nTerm_2pt5x_r8_0001_0...</td>\n",
       "    </tr>\n",
       "    <tr>\n",
       "      <th>4</th>\n",
       "      <td>DHR20_DHR47_l2_h15_l4_t3_t3_0_v6c_r11_0001_000...</td>\n",
       "    </tr>\n",
       "  </tbody>\n",
       "</table>\n",
       "</div>"
      ],
      "text/plain": [
       "                                                   0\n",
       "0      DHR20_DHR46_l3_h14_l2_t1_t3_r9_0001_0001_fd19\n",
       "1            DHR21_DHR46_l2_t3_t3_0_v3_r11_0001_fd19\n",
       "2  DHR72_DHR53_l3_h13_l2_t1_t1_2_v6c_r11_0001_000...\n",
       "3  DHR20_DHR47_l2_t0_t2_D15_nTerm_2pt5x_r8_0001_0...\n",
       "4  DHR20_DHR47_l2_h15_l4_t3_t3_0_v6c_r11_0001_000..."
      ]
     },
     "execution_count": 212,
     "metadata": {},
     "output_type": "execute_result"
    }
   ],
   "source": [
    "lista.head()"
   ]
  },
  {
   "cell_type": "code",
   "execution_count": 215,
   "metadata": {},
   "outputs": [],
   "source": [
    "lista.to_csv('selection.csv', sep='\\t',index=False)"
   ]
  },
  {
   "cell_type": "code",
   "execution_count": null,
   "metadata": {},
   "outputs": [],
   "source": []
  },
  {
   "cell_type": "code",
   "execution_count": null,
   "metadata": {},
   "outputs": [],
   "source": []
  },
  {
   "cell_type": "code",
   "execution_count": null,
   "metadata": {},
   "outputs": [],
   "source": []
  },
  {
   "cell_type": "code",
   "execution_count": null,
   "metadata": {},
   "outputs": [],
   "source": []
  },
  {
   "cell_type": "code",
   "execution_count": null,
   "metadata": {},
   "outputs": [],
   "source": []
  },
  {
   "cell_type": "code",
   "execution_count": null,
   "metadata": {},
   "outputs": [],
   "source": []
  },
  {
   "cell_type": "code",
   "execution_count": null,
   "metadata": {},
   "outputs": [],
   "source": []
  },
  {
   "cell_type": "code",
   "execution_count": null,
   "metadata": {},
   "outputs": [],
   "source": []
  },
  {
   "cell_type": "code",
   "execution_count": null,
   "metadata": {},
   "outputs": [],
   "source": []
  },
  {
   "cell_type": "code",
   "execution_count": 80,
   "metadata": {},
   "outputs": [
    {
     "name": "stdout",
     "output_type": "stream",
     "text": [
      "cp batch1_layer/output_structures/3h_14_1.274_9.047_looped_0001_0001.pdb scratch_sele/ ;\n",
      "cp batch1_layer/output_structures/3h_14_1.181_8.915_looped_0001_0001.pdb scratch_sele/ ;\n",
      "cp batch1_layer/output_structures/3h_14_1.841_9.06_looped_0001_0001.pdb scratch_sele/ ;\n",
      "cp batch1_layer/output_structures/3h_14_1.007_8.396_looped_0001_0001.pdb scratch_sele/ ;\n",
      "cp batch1_layer/output_structures/3h_14_1.971_7.951_looped_0001_0001.pdb scratch_sele/ ;\n",
      "cp batch1_layer/output_structures/3h_14_2.059_9.413_looped_0001_0001.pdb scratch_sele/ ;\n",
      "cp batch1_layer/output_structures/3h_14_2.137_7.419_looped_0001_0001.pdb scratch_sele/ ;\n",
      "cp batch1_layer/output_structures/3h_14_2.0_8.705_looped_0001_0001.pdb scratch_sele/ ;\n",
      "cp batch1_layer/output_structures/3h_14_0.704_9.119_looped_0001_0001.pdb scratch_sele/ ;\n",
      "cp batch1_layer/output_structures/3h_14_2.464_8.567_looped_0001_0001.pdb scratch_sele/ ;\n"
     ]
    }
   ],
   "source": [
    "for i in scores4['name']:\n",
    "    print(f'cp batch1_layer/output_structures/{i}.pdb scratch_sele/ ;')"
   ]
  },
  {
   "cell_type": "code",
   "execution_count": null,
   "metadata": {},
   "outputs": [],
   "source": []
  },
  {
   "cell_type": "code",
   "execution_count": null,
   "metadata": {},
   "outputs": [],
   "source": []
  },
  {
   "cell_type": "code",
   "execution_count": null,
   "metadata": {},
   "outputs": [],
   "source": []
  },
  {
   "cell_type": "code",
   "execution_count": null,
   "metadata": {},
   "outputs": [],
   "source": []
  },
  {
   "cell_type": "code",
   "execution_count": null,
   "metadata": {},
   "outputs": [],
   "source": []
  },
  {
   "cell_type": "code",
   "execution_count": null,
   "metadata": {},
   "outputs": [],
   "source": []
  },
  {
   "cell_type": "code",
   "execution_count": null,
   "metadata": {},
   "outputs": [],
   "source": []
  },
  {
   "cell_type": "code",
   "execution_count": null,
   "metadata": {},
   "outputs": [],
   "source": []
  },
  {
   "cell_type": "code",
   "execution_count": null,
   "metadata": {},
   "outputs": [],
   "source": []
  },
  {
   "cell_type": "code",
   "execution_count": null,
   "metadata": {},
   "outputs": [],
   "source": []
  },
  {
   "cell_type": "code",
   "execution_count": null,
   "metadata": {},
   "outputs": [],
   "source": []
  },
  {
   "cell_type": "code",
   "execution_count": null,
   "metadata": {},
   "outputs": [],
   "source": []
  },
  {
   "cell_type": "code",
   "execution_count": null,
   "metadata": {},
   "outputs": [],
   "source": []
  },
  {
   "cell_type": "code",
   "execution_count": null,
   "metadata": {},
   "outputs": [],
   "source": []
  },
  {
   "cell_type": "code",
   "execution_count": null,
   "metadata": {},
   "outputs": [],
   "source": []
  },
  {
   "cell_type": "code",
   "execution_count": null,
   "metadata": {},
   "outputs": [],
   "source": []
  }
 ],
 "metadata": {
  "kernelspec": {
   "display_name": "Python 3",
   "language": "python",
   "name": "python3"
  },
  "language_info": {
   "codemirror_mode": {
    "name": "ipython",
    "version": 3
   },
   "file_extension": ".py",
   "mimetype": "text/x-python",
   "name": "python",
   "nbconvert_exporter": "python",
   "pygments_lexer": "ipython3",
   "version": "3.6.10"
  }
 },
 "nbformat": 4,
 "nbformat_minor": 2
}
